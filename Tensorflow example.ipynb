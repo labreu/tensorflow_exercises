{
 "cells": [
  {
   "cell_type": "code",
   "execution_count": 24,
   "metadata": {
    "collapsed": false
   },
   "outputs": [
    {
     "name": "stdout",
     "output_type": "stream",
     "text": [
      "Populating the interactive namespace from numpy and matplotlib\n"
     ]
    },
    {
     "name": "stderr",
     "output_type": "stream",
     "text": [
      "WARNING: pylab import has clobbered these variables: ['test']\n",
      "`%matplotlib` prevents importing * from pylab and numpy\n"
     ]
    }
   ],
   "source": [
    "%pylab inline\n",
    "import pandas as pd\n",
    "import seaborn\n",
    "import tensorflow as tf\n",
    "from sklearn.cross_validation import train_test_split\n",
    "from sklearn.preprocessing import StandardScaler\n",
    "\n",
    "figsize(10,8)"
   ]
  },
  {
   "cell_type": "markdown",
   "metadata": {},
   "source": [
    "# Load train and test sets"
   ]
  },
  {
   "cell_type": "code",
   "execution_count": 25,
   "metadata": {
    "collapsed": false
   },
   "outputs": [],
   "source": [
    "train = pd.read_excel('Kick Training Data_.xlsx')\n",
    "test = pd.read_excel('Kick Test Data_.xlsx')"
   ]
  },
  {
   "cell_type": "code",
   "execution_count": 26,
   "metadata": {
    "collapsed": true
   },
   "outputs": [],
   "source": [
    "t_f = train[['period_minute', 'Start_X', 'Start_Y', 'Temperature', 'HomeHalfTimeLeadFlag', 'WinFlag', 'HomeTeamWin', 'DewPoint', 'Humidity', 'Visibility', 'WindDirection', 'WindSpeed']]"
   ]
  },
  {
   "cell_type": "code",
   "execution_count": 27,
   "metadata": {
    "collapsed": false
   },
   "outputs": [
    {
     "data": {
      "text/plain": [
       "((794, 78), (794, 12))"
      ]
     },
     "execution_count": 27,
     "metadata": {},
     "output_type": "execute_result"
    }
   ],
   "source": [
    "train.shape, t_f.shape"
   ]
  },
  {
   "cell_type": "code",
   "execution_count": 28,
   "metadata": {
    "collapsed": true
   },
   "outputs": [],
   "source": [
    "ss = StandardScaler()\n",
    "\n",
    "new_t_f = pd.DataFrame(ss.fit_transform(t_f))   #[['Start_X', 'Start_Y']]"
   ]
  },
  {
   "cell_type": "code",
   "execution_count": 29,
   "metadata": {
    "collapsed": false
   },
   "outputs": [
    {
     "data": {
      "text/html": [
       "<div>\n",
       "<table border=\"1\" class=\"dataframe\">\n",
       "  <thead>\n",
       "    <tr style=\"text-align: right;\">\n",
       "      <th></th>\n",
       "      <th>0</th>\n",
       "      <th>1</th>\n",
       "      <th>2</th>\n",
       "      <th>3</th>\n",
       "      <th>4</th>\n",
       "      <th>5</th>\n",
       "      <th>6</th>\n",
       "      <th>7</th>\n",
       "      <th>8</th>\n",
       "      <th>9</th>\n",
       "      <th>10</th>\n",
       "      <th>11</th>\n",
       "    </tr>\n",
       "  </thead>\n",
       "  <tbody>\n",
       "    <tr>\n",
       "      <th>0</th>\n",
       "      <td>-1.552801</td>\n",
       "      <td>-1.600310</td>\n",
       "      <td>1.400052</td>\n",
       "      <td>0.467127</td>\n",
       "      <td>-1.161513</td>\n",
       "      <td>-1.149625</td>\n",
       "      <td>-1.149625</td>\n",
       "      <td>1.345463</td>\n",
       "      <td>1.059445</td>\n",
       "      <td>-0.758210</td>\n",
       "      <td>0.626771</td>\n",
       "      <td>2.750441</td>\n",
       "    </tr>\n",
       "    <tr>\n",
       "      <th>1</th>\n",
       "      <td>-1.419497</td>\n",
       "      <td>-0.731855</td>\n",
       "      <td>-1.123278</td>\n",
       "      <td>0.467127</td>\n",
       "      <td>-1.161513</td>\n",
       "      <td>-1.149625</td>\n",
       "      <td>-1.149625</td>\n",
       "      <td>1.345463</td>\n",
       "      <td>1.059445</td>\n",
       "      <td>-0.758210</td>\n",
       "      <td>0.626771</td>\n",
       "      <td>2.750441</td>\n",
       "    </tr>\n",
       "    <tr>\n",
       "      <th>2</th>\n",
       "      <td>-1.019587</td>\n",
       "      <td>1.487530</td>\n",
       "      <td>0.023691</td>\n",
       "      <td>0.467127</td>\n",
       "      <td>-1.161513</td>\n",
       "      <td>-1.149625</td>\n",
       "      <td>-1.149625</td>\n",
       "      <td>1.348378</td>\n",
       "      <td>1.059445</td>\n",
       "      <td>-0.790302</td>\n",
       "      <td>0.616364</td>\n",
       "      <td>2.750441</td>\n",
       "    </tr>\n",
       "    <tr>\n",
       "      <th>3</th>\n",
       "      <td>-0.841849</td>\n",
       "      <td>-0.345875</td>\n",
       "      <td>0.998613</td>\n",
       "      <td>0.467127</td>\n",
       "      <td>-1.161513</td>\n",
       "      <td>-1.149625</td>\n",
       "      <td>-1.149625</td>\n",
       "      <td>1.348378</td>\n",
       "      <td>1.059445</td>\n",
       "      <td>-0.790302</td>\n",
       "      <td>0.616364</td>\n",
       "      <td>2.750441</td>\n",
       "    </tr>\n",
       "    <tr>\n",
       "      <th>4</th>\n",
       "      <td>-0.619676</td>\n",
       "      <td>-0.056390</td>\n",
       "      <td>0.253084</td>\n",
       "      <td>0.467127</td>\n",
       "      <td>-1.161513</td>\n",
       "      <td>-1.149625</td>\n",
       "      <td>-1.149625</td>\n",
       "      <td>1.352751</td>\n",
       "      <td>1.059445</td>\n",
       "      <td>-0.758210</td>\n",
       "      <td>0.616364</td>\n",
       "      <td>2.750441</td>\n",
       "    </tr>\n",
       "  </tbody>\n",
       "</table>\n",
       "</div>"
      ],
      "text/plain": [
       "         0         1         2         3         4         5         6   \\\n",
       "0 -1.552801 -1.600310  1.400052  0.467127 -1.161513 -1.149625 -1.149625   \n",
       "1 -1.419497 -0.731855 -1.123278  0.467127 -1.161513 -1.149625 -1.149625   \n",
       "2 -1.019587  1.487530  0.023691  0.467127 -1.161513 -1.149625 -1.149625   \n",
       "3 -0.841849 -0.345875  0.998613  0.467127 -1.161513 -1.149625 -1.149625   \n",
       "4 -0.619676 -0.056390  0.253084  0.467127 -1.161513 -1.149625 -1.149625   \n",
       "\n",
       "         7         8         9         10        11  \n",
       "0  1.345463  1.059445 -0.758210  0.626771  2.750441  \n",
       "1  1.345463  1.059445 -0.758210  0.626771  2.750441  \n",
       "2  1.348378  1.059445 -0.790302  0.616364  2.750441  \n",
       "3  1.348378  1.059445 -0.790302  0.616364  2.750441  \n",
       "4  1.352751  1.059445 -0.758210  0.616364  2.750441  "
      ]
     },
     "execution_count": 29,
     "metadata": {},
     "output_type": "execute_result"
    }
   ],
   "source": [
    "new_t_f.head()"
   ]
  },
  {
   "cell_type": "code",
   "execution_count": 5,
   "metadata": {
    "collapsed": false
   },
   "outputs": [],
   "source": [
    "def eval_model(y, y_, X_test, y_test):\n",
    "    correct_prediction = tf.equal(tf.argmax(y, 1), tf.argmax(y_, 1))  #list of booleans\n",
    "    accuracy = tf.reduce_mean(tf.cast(correct_prediction, tf.float32))  #cast to floating point numbers and then take the mean\n",
    "\n",
    "    return(sess.run(accuracy, feed_dict={x: X_test, y_: y_test}))"
   ]
  },
  {
   "cell_type": "code",
   "execution_count": 31,
   "metadata": {
    "collapsed": false
   },
   "outputs": [],
   "source": [
    "var_shape = 12\n",
    "out_shape = 2\n",
    "x = tf.placeholder(tf.float32, [None, var_shape])\n",
    "\n",
    "W = tf.Variable(tf.random_uniform([var_shape, 8]))\n",
    "b = tf.Variable(tf.random_uniform([8]))\n",
    "\n",
    "W2 = tf.Variable(tf.zeros([8, 6]))\n",
    "b2 = tf.Variable(tf.random_uniform([6]))\n",
    "\n",
    "W3 = tf.Variable(tf.zeros([6, out_shape]))\n",
    "b3 = tf.Variable(tf.random_uniform([out_shape]))\n",
    "\n",
    "layer1 = (tf.matmul(x, W) + b)\n",
    "layer1 = tf.nn.relu(layer1)\n",
    "\n",
    "layer2 = tf.matmul(layer1, W2) + b2\n",
    "layer2 = tf.nn.relu(layer2)\n",
    "\n",
    "layer3 = tf.matmul(layer2, W3) + b3\n",
    "layer3 = tf.nn.relu(layer3)\n",
    "\n",
    "y = layer3\n",
    "\n",
    "y_ = tf.placeholder(tf.float32, [None, 2])\n",
    "\n",
    "cross_entropy = tf.reduce_mean(tf.nn.softmax_cross_entropy_with_logits(y, y_))\n",
    "train_step = tf.train.GradientDescentOptimizer(0.01).minimize(cross_entropy)\n",
    "\n",
    "correct_prediction = tf.equal(tf.argmax(y, 1), tf.argmax(y_, 1))\n",
    "accuracy = tf.reduce_mean(tf.cast(correct_prediction, tf.float32))\n"
   ]
  },
  {
   "cell_type": "code",
   "execution_count": 32,
   "metadata": {
    "collapsed": false
   },
   "outputs": [
    {
     "name": "stdout",
     "output_type": "stream",
     "text": [
      "0.752901\n",
      "0.61893\n",
      "0.38988\n",
      "0.512843\n",
      "0.501099\n",
      "0.596387\n",
      "0.503924\n",
      "0.464376\n",
      "0.451756\n",
      "0.54525\n",
      "0.504432\n"
     ]
    }
   ],
   "source": [
    "init = tf.initialize_all_variables()\n",
    "sess = tf.Session()\n",
    "sess.run(init)\n",
    "\n",
    "target = pd.get_dummies(pd.factorize(train['ActionName'].values)[0]).values\n",
    "X_train, X_test, y_train, y_test = train_test_split(new_t_f.values, target)\n",
    "\n",
    "for i in range(10001):\n",
    "    X_train_s, _, y_train_s, _ = train_test_split(X_train, y_train, test_size=.9)\n",
    "    ce, state = sess.run([cross_entropy, train_step], feed_dict={x: X_train_s, y_: y_train_s})\n",
    "\n",
    "    if i % 1000 == 0:\n",
    "        acc = eval_model(y, y_, X_test, y_test)\n",
    "        print(ce)"
   ]
  },
  {
   "cell_type": "code",
   "execution_count": 1,
   "metadata": {
    "collapsed": false
   },
   "outputs": [
    {
     "name": "stdout",
     "output_type": "stream",
     "text": [
      "Populating the interactive namespace from numpy and matplotlib\n"
     ]
    }
   ],
   "source": [
    "from sklearn.datasets import samples_generator\n",
    "%pylab inline\n",
    "import pandas as pd\n",
    "import seaborn\n",
    "import tensorflow as tf\n",
    "from sklearn.cross_validation import train_test_split\n",
    "from sklearn.preprocessing import StandardScaler\n",
    "\n",
    "figsize(10,8)"
   ]
  },
  {
   "cell_type": "code",
   "execution_count": null,
   "metadata": {
    "collapsed": true
   },
   "outputs": [],
   "source": [
    "def eval_model(y, y_, X_test, y_test):\n",
    "    correct_prediction = tf.equal(tf.argmax(y, 1), tf.argmax(y_, 1))  #list of booleans\n",
    "    accuracy = tf.reduce_mean(tf.cast(correct_prediction, tf.float32))  #cast to floating point numbers and then take the mean\n",
    "\n",
    "    return(sess.run(accuracy, feed_dict={x: X_test, y_: y_test}))"
   ]
  },
  {
   "cell_type": "code",
   "execution_count": 2,
   "metadata": {
    "collapsed": false,
    "scrolled": false
   },
   "outputs": [
    {
     "data": {
      "text/plain": [
       "<matplotlib.axes._subplots.AxesSubplot at 0x11cdf1c10>"
      ]
     },
     "execution_count": 2,
     "metadata": {},
     "output_type": "execute_result"
    },
    {
     "data": {
      "image/png": "[encoded data removed]",
      "text/plain": [
       "<matplotlib.figure.Figure at 0x11cdf1390>"
      ]
     },
     "metadata": {},
     "output_type": "display_data"
    }
   ],
   "source": [
    "data = samples_generator.make_blobs()\n",
    "\n",
    "df = pd.DataFrame(data[0])\n",
    "df.plot.scatter(0, 1, c=data[1])"
   ]
  },
  {
   "cell_type": "code",
   "execution_count": 3,
   "metadata": {
    "collapsed": true
   },
   "outputs": [],
   "source": [
    "x = tf.placeholder(tf.float32, [None, 2])\n",
    "\n",
    "W = tf.Variable(tf.random_uniform([2, 3]))\n",
    "b = tf.Variable(tf.random_uniform([3]))\n",
    "\n",
    "layer = (tf.matmul(x,W) + b)\n",
    "y = layer\n",
    "softmax = tf.nn.softmax(y)\n",
    "y_ = tf.placeholder(tf.float32, [None, 3])\n",
    "\n",
    "loss = tf.reduce_mean(tf.nn.softmax_cross_entropy_with_logits(y, y_))\n",
    "\n",
    "optimizer = tf.train.GradientDescentOptimizer(0.1).minimize(loss)"
   ]
  },
  {
   "cell_type": "code",
   "execution_count": 6,
   "metadata": {
    "collapsed": false,
    "scrolled": true
   },
   "outputs": [
    {
     "name": "stdout",
     "output_type": "stream",
     "text": [
      "None\n",
      "Epoch: 0 - Loss: 4.01738452911 Acc: 0.266666680574\n",
      "Epoch: 1000 - Loss: 0.172827750444 Acc: 0.933333337307\n",
      "Epoch: 2000 - Loss: 0.14855197072 Acc: 0.933333337307\n",
      "Epoch: 3000 - Loss: 0.2363743186 Acc: 0.933333337307\n",
      "Epoch: 4000 - Loss: 0.16963082552 Acc: 0.933333337307\n",
      "Epoch: 5000 - Loss: 0.144685655832 Acc: 0.933333337307\n",
      "Epoch: 6000 - Loss: 0.17812974751 Acc: 0.933333337307\n",
      "Epoch: 7000 - Loss: 0.126617446542 Acc: 0.933333337307\n",
      "Epoch: 8000 - Loss: 0.209899961948 Acc: 0.933333337307\n"
     ]
    }
   ],
   "source": [
    "init = tf.initialize_all_variables()\n",
    "sess = tf.Session()\n",
    "print(sess.run(init))\n",
    "\n",
    "X_train, X_test, y_train, y_test = train_test_split(data[0], pd.get_dummies(data[1]).values, train_size=.7)\n",
    "\n",
    "for i in range(8001):\n",
    "    X_train_s, X_test_s, y_train_s, y_test_s = train_test_split(X_train, y_train)\n",
    "    \n",
    "    l, o, output = sess.run([loss, optimizer, y], feed_dict={x: X_train_s, y_: y_train_s})\n",
    "    if i % 1000 == 0:\n",
    "        acc = eval_model(y, y_, X_test, y_test)\n",
    "        print('Epoch: {} - Loss: {} Acc: {}'.format(i, l, acc))"
   ]
  },
  {
   "cell_type": "code",
   "execution_count": 7,
   "metadata": {
    "collapsed": false
   },
   "outputs": [],
   "source": [
    "output = sess.run(softmax, feed_dict={x: data[0], y_: pd.get_dummies(data[1]).values})\n",
    "output = output.argmax(axis=1)"
   ]
  },
  {
   "cell_type": "code",
   "execution_count": 8,
   "metadata": {
    "collapsed": false,
    "scrolled": true
   },
   "outputs": [],
   "source": [
    "size = (data[1] == output)"
   ]
  },
  {
   "cell_type": "code",
   "execution_count": 9,
   "metadata": {
    "collapsed": false
   },
   "outputs": [
    {
     "data": {
      "text/plain": [
       "<matplotlib.axes._subplots.AxesSubplot at 0x11e1aa0d0>"
      ]
     },
     "execution_count": 9,
     "metadata": {},
     "output_type": "execute_result"
    },
    {
     "data": {
      "image/png": "[encoded data removed]",
      "text/plain": [
       "<matplotlib.figure.Figure at 0x11e1a68d0>"
      ]
     },
     "metadata": {},
     "output_type": "display_data"
    }
   ],
   "source": [
    "df.plot.scatter(0, 1, c=data[1], s=(~size+2)**4)  #df[1]"
   ]
  },
  {
   "cell_type": "code",
   "execution_count": null,
   "metadata": {
    "collapsed": true
   },
   "outputs": [],
   "source": []
  }
 ],
 "metadata": {
  "anaconda-cloud": {},
  "kernelspec": {
   "display_name": "Python [Root]",
   "language": "python",
   "name": "Python [Root]"
  },
  "language_info": {
   "codemirror_mode": {
    "name": "ipython",
    "version": 2
   },
   "file_extension": ".py",
   "mimetype": "text/x-python",
   "name": "python",
   "nbconvert_exporter": "python",
   "pygments_lexer": "ipython2",
   "version": "2.7.12"
  }
 },
 "nbformat": 4,
 "nbformat_minor": 0
}
